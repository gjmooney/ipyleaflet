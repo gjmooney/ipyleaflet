{
 "cells": [
  {
   "cell_type": "code",
   "execution_count": null,
   "metadata": {},
   "outputs": [],
   "source": [
    "from ipyleaflet import Map, Marker, MarkerCluster\n",
    "import geopandas\n",
    "\n",
    "\n",
    "cities = geopandas.read_file(\"zip://./geopandas_cities.zip\")\n",
    "\n",
    "m = Map(center=(42.5, -41.6), zoom=2)\n",
    "m.add(\n",
    "    MarkerCluster(\n",
    "        markers=[\n",
    "            Marker(location=geolocation.coords[0][::-1])\n",
    "            for geolocation in cities.geometry\n",
    "        ],\n",
    "        disable_clustering_at_zoom=3,\n",
    "        max_cluster_radius=100,\n",
    "        spider_leg_polyline_options={'weight': 12, 'color': '#000','opacity': 1},\n",
    "        spiderfy_distance_multiplier=2\n",
    "    )\n",
    ")\n",
    "m"
   ]
  }
 ],
 "metadata": {
  "language_info": {
   "name": "python"
  }
 },
 "nbformat": 4,
 "nbformat_minor": 2
}
