{
 "cells": [
  {
   "cell_type": "code",
   "execution_count": 16,
   "id": "67050135",
   "metadata": {},
   "outputs": [
    {
     "data": {
      "application/vnd.jupyter.widget-view+json": {
       "model_id": "db3183c3c70345ec80d72bc2bae28aee",
       "version_major": 2,
       "version_minor": 0
      },
      "text/plain": [
       "Map(center=[48.265643898808236, 336.7529296875], controls=(ZoomControl(options=['position', 'zoom_in_text', 'z…"
      ]
     },
     "execution_count": 16,
     "metadata": {},
     "output_type": "execute_result"
    }
   ],
   "source": [
    "from ipywidgets import HTML\n",
    "\n",
    "from ipyleaflet import Map, Marker, Tooltip\n",
    "\n",
    "\n",
    "center = [48.265643898808236, 336.7529296875]\n",
    "\n",
    "m = Map(center=center, zoom=7)\n",
    "\n",
    "marker = Marker(location=center)\n",
    "m.add(marker)\n",
    "\n",
    "message = HTML()\n",
    "message.value = \"This is a tooltip!\"\n",
    "\n",
    "# Tooltip with a given location on the map:\n",
    "tooltip = Tooltip(\n",
    "    location=center,\n",
    "    child=message,\n",
    "    direction='bottom',\n",
    "    permanent=True,\n",
    "    offset=(50,100),\n",
    "    sticky=True,\n",
    "    opacity=0.5\n",
    "    \n",
    ")\n",
    "m.add(tooltip)\n",
    "\n",
    "m"
   ]
  },
  {
   "cell_type": "code",
   "execution_count": null,
   "id": "175b0b8b-fb13-42c9-850c-7c846b60c01e",
   "metadata": {},
   "outputs": [],
   "source": []
  }
 ],
 "metadata": {
  "kernelspec": {
   "display_name": "Python 3 (ipykernel)",
   "language": "python",
   "name": "python3"
  },
  "language_info": {
   "codemirror_mode": {
    "name": "ipython",
    "version": 3
   },
   "file_extension": ".py",
   "mimetype": "text/x-python",
   "name": "python",
   "nbconvert_exporter": "python",
   "pygments_lexer": "ipython3",
   "version": "3.12.0"
  }
 },
 "nbformat": 4,
 "nbformat_minor": 5
}
